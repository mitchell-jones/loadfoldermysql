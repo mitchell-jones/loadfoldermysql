{
 "cells": [
  {
   "cell_type": "markdown",
   "metadata": {},
   "source": [
    "# Load Folder of Files to MySQL Utility\n",
    "This utility allows you to import a folder of files to a mysql server. Make sure to change \"USER PARAMETERS\"\n",
    "\n",
    "IMPORTANT NOTE: As of now, you need to pre-create the database that you will be loading the files into."
   ]
  },
  {
   "cell_type": "markdown",
   "metadata": {},
   "source": [
    "## User Parameters"
   ]
  },
  {
   "cell_type": "code",
   "execution_count": null,
   "metadata": {},
   "outputs": [],
   "source": [
    "database_name = ''\n",
    "user = ''\n",
    "password = ''\n",
    "folder_path = r''"
   ]
  },
  {
   "cell_type": "markdown",
   "metadata": {},
   "source": [
    "## Load Packages"
   ]
  },
  {
   "cell_type": "code",
   "execution_count": null,
   "metadata": {},
   "outputs": [],
   "source": [
    "import pandas as pd\n",
    "import os\n",
    "from sqlalchemy import create_engine\n",
    "import pymysql"
   ]
  },
  {
   "cell_type": "markdown",
   "metadata": {},
   "source": [
    "## Verify Files are Present in Folder"
   ]
  },
  {
   "cell_type": "code",
   "execution_count": null,
   "metadata": {},
   "outputs": [],
   "source": [
    "os.chdir(folder_path)\n",
    "os.listdir()"
   ]
  },
  {
   "cell_type": "markdown",
   "metadata": {},
   "source": [
    "## Instantiate Engine & Define Data Loading Procedures"
   ]
  },
  {
   "cell_type": "code",
   "execution_count": null,
   "metadata": {},
   "outputs": [],
   "source": [
    "engine_path = 'mysql+pymysql://{}:{}@127.0.0.1/{}'.format(user, password, database_name)\n",
    "engine_path"
   ]
  },
  {
   "cell_type": "code",
   "execution_count": null,
   "metadata": {},
   "outputs": [],
   "source": [
    "def load_data():\n",
    "    print(\"Name of file:\", i)\n",
    "    \n",
    "    if ext == '.xlsx':\n",
    "        sheet = input('What is the sheetname?')\n",
    "        df = pd.read_excel(i, sheet_name = sheet)\n",
    "    if ext == '.xlsb':\n",
    "        sheet = input('What is the sheetname?')\n",
    "        df = pd.read_excel(i, sheet_name = sheet, engine='pyxlsb')\n",
    "    else:\n",
    "        sep = input('What is the seperator?')\n",
    "        df = pd.read_csv(i, sep = sep)\n",
    "        \n",
    "    table_name = input('Desired table name?').lower()\n",
    "\n",
    "    return df, table_name"
   ]
  },
  {
   "cell_type": "code",
   "execution_count": null,
   "metadata": {},
   "outputs": [],
   "source": [
    "sqlEngine = create_engine(engine_path, pool_recycle=3600)\n",
    "dbConnection = sqlEngine.connect()"
   ]
  },
  {
   "cell_type": "markdown",
   "metadata": {},
   "source": [
    "## Main Loop through File Folder"
   ]
  },
  {
   "cell_type": "code",
   "execution_count": null,
   "metadata": {
    "scrolled": true
   },
   "outputs": [],
   "source": [
    "for i in os.listdir():\n",
    "    ext = os.path.splitext(i)[1]\n",
    "    \n",
    "    if ext == '.xlsx' or ext == '.xlsb':\n",
    "        while True:\n",
    "            df, table_name = load_data()\n",
    "            frame = df.to_sql(table_name, dbConnection, if_exists='replace')\n",
    "            if input('Would you like to get another sheet from this file? (Y/N)') == 'Y':\n",
    "                pass\n",
    "            else:\n",
    "                break\n",
    "    else:\n",
    "        df, table_name = load_data()\n",
    "        frame = df.to_sql(table_name, dbConnection, if_exists='replace')\n",
    "    \n",
    "print ('All finished!')"
   ]
  }
 ],
 "metadata": {
  "kernelspec": {
   "display_name": "Python 3",
   "language": "python",
   "name": "python3"
  },
  "language_info": {
   "codemirror_mode": {
    "name": "ipython",
    "version": 3
   },
   "file_extension": ".py",
   "mimetype": "text/x-python",
   "name": "python",
   "nbconvert_exporter": "python",
   "pygments_lexer": "ipython3",
   "version": "3.8.5"
  }
 },
 "nbformat": 4,
 "nbformat_minor": 4
}
